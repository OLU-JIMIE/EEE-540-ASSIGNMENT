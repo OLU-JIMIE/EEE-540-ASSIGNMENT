{
 "cells": [
  {
   "cell_type": "code",
   "execution_count": 1,
   "id": "a9c72b96-c75f-4bb3-adce-b1b920fdbb29",
   "metadata": {},
   "outputs": [],
   "source": [
    "#Import required libraries\n",
    "import pandas as pd\n",
    "from sklearn.datasets import load_wine\n",
    "from sklearn.neural_network import MLPClassifier\n",
    "from sklearn.model_selection import train_test_split\n",
    "from sklearn.metrics import accuracy_score\n",
    "from sklearn.metrics import confusion_matrix"
   ]
  },
  {
   "cell_type": "code",
   "execution_count": 2,
   "id": "3b5de4fb-d7e3-40ee-8125-e80ef3e226e9",
   "metadata": {},
   "outputs": [
    {
     "name": "stdout",
     "output_type": "stream",
     "text": [
      "dict_keys(['data', 'target', 'frame', 'target_names', 'DESCR', 'feature_names'])\n",
      "['class_0' 'class_1' 'class_2']\n"
     ]
    }
   ],
   "source": [
    "#Load the Iris dataset\n",
    "wine = load_wine()\n",
    "#View the iris data keys\n",
    "print(wine.keys())\n",
    "#it is a key of dictionary iris\n",
    "print(wine.target_names)"
   ]
  },
  {
   "cell_type": "code",
   "execution_count": 3,
   "id": "14256f87-8a3f-4945-a2c6-1dcfbf05251e",
   "metadata": {},
   "outputs": [
    {
     "name": "stdout",
     "output_type": "stream",
     "text": [
      "     alcohol  malic_acid   ash  alcalinity_of_ash  magnesium  total_phenols  \\\n",
      "0      14.23        1.71  2.43               15.6      127.0           2.80   \n",
      "1      13.20        1.78  2.14               11.2      100.0           2.65   \n",
      "2      13.16        2.36  2.67               18.6      101.0           2.80   \n",
      "3      14.37        1.95  2.50               16.8      113.0           3.85   \n",
      "4      13.24        2.59  2.87               21.0      118.0           2.80   \n",
      "..       ...         ...   ...                ...        ...            ...   \n",
      "97     12.29        1.41  1.98               16.0       85.0           2.55   \n",
      "98     12.37        1.07  2.10               18.5       88.0           3.52   \n",
      "99     12.29        3.17  2.21               18.0       88.0           2.85   \n",
      "100    12.08        2.08  1.70               17.5       97.0           2.23   \n",
      "101    12.60        1.34  1.90               18.5       88.0           1.45   \n",
      "\n",
      "     flavanoids  nonflavanoid_phenols  proanthocyanins  color_intensity   hue  \\\n",
      "0          3.06                  0.28             2.29             5.64  1.04   \n",
      "1          2.76                  0.26             1.28             4.38  1.05   \n",
      "2          3.24                  0.30             2.81             5.68  1.03   \n",
      "3          3.49                  0.24             2.18             7.80  0.86   \n",
      "4          2.69                  0.39             1.82             4.32  1.04   \n",
      "..          ...                   ...              ...              ...   ...   \n",
      "97         2.50                  0.29             1.77             2.90  1.23   \n",
      "98         3.75                  0.24             1.95             4.50  1.04   \n",
      "99         2.99                  0.45             2.81             2.30  1.42   \n",
      "100        2.17                  0.26             1.40             3.30  1.27   \n",
      "101        1.36                  0.29             1.35             2.45  1.04   \n",
      "\n",
      "     od280/od315_of_diluted_wines  proline  \n",
      "0                            3.92   1065.0  \n",
      "1                            3.40   1050.0  \n",
      "2                            3.17   1185.0  \n",
      "3                            3.45   1480.0  \n",
      "4                            2.93    735.0  \n",
      "..                            ...      ...  \n",
      "97                           2.74    428.0  \n",
      "98                           2.77    660.0  \n",
      "99                           2.83    406.0  \n",
      "100                          2.96    710.0  \n",
      "101                          2.77    562.0  \n",
      "\n",
      "[102 rows x 13 columns]\n"
     ]
    }
   ],
   "source": [
    "##Convert data and target into a data frame.\n",
    "#Extract the First 100 Features\n",
    "X = pd.DataFrame(data = wine.data[:(52%50)+100,:], columns = wine.feature_names)\n",
    "print(X.head(150)) #Inspect the features\n",
    "#Target"
   ]
  },
  {
   "cell_type": "code",
   "execution_count": 4,
   "id": "728adcca-85f1-4c23-b11f-ff556aee8fb2",
   "metadata": {},
   "outputs": [
    {
     "name": "stdout",
     "output_type": "stream",
     "text": [
      "     wineType\n",
      "0           0\n",
      "1           0\n",
      "2           0\n",
      "3           0\n",
      "4           0\n",
      "..        ...\n",
      "97          1\n",
      "98          1\n",
      "99          1\n",
      "100         1\n",
      "101         1\n",
      "\n",
      "[102 rows x 1 columns]\n"
     ]
    }
   ],
   "source": [
    "y = pd.DataFrame(data=wine.target[:(52%50)+100], columns = ['wineType'])\n",
    "print(y.head(150))"
   ]
  },
  {
   "cell_type": "code",
   "execution_count": 5,
   "id": "a06167eb-54f7-4e37-9dc6-504d04734253",
   "metadata": {},
   "outputs": [],
   "source": [
    "# Split the dataset into training and testing sets\n",
    "X_train, X_test, y_train, y_test = train_test_split(X, y, test_size=0.2, random_state=42)"
   ]
  },
  {
   "cell_type": "code",
   "execution_count": 6,
   "id": "195e406a-6557-4016-ba2e-e2a52a7fb882",
   "metadata": {},
   "outputs": [
    {
     "name": "stderr",
     "output_type": "stream",
     "text": [
      "C:\\Users\\ogada\\AppData\\Local\\Packages\\PythonSoftwareFoundation.Python.3.10_qbz5n2kfra8p0\\LocalCache\\local-packages\\Python310\\site-packages\\sklearn\\neural_network\\_multilayer_perceptron.py:1101: DataConversionWarning: A column-vector y was passed when a 1d array was expected. Please change the shape of y to (n_samples, ), for example using ravel().\n",
      "  y = column_or_1d(y, warn=True)\n"
     ]
    }
   ],
   "source": [
    "# Create a Perceptron classifier\n",
    "mlPercept = MLPClassifier(solver='adam', activation='relu')\n",
    "# Train the classifier\n",
    "mlPercept.fit(X_train, y_train)\n",
    "# Make predictions on the test set\n",
    "y_pred = mlPercept.predict(X_test)"
   ]
  },
  {
   "cell_type": "code",
   "execution_count": 7,
   "id": "1c20ebfd-6679-4a33-9d3e-6f46cb53f0e2",
   "metadata": {},
   "outputs": [
    {
     "name": "stdout",
     "output_type": "stream",
     "text": [
      "Accuracy: 0.38095238095238093\n"
     ]
    }
   ],
   "source": [
    "# Calculate accuracy of the classifier\n",
    "accuracy = accuracy_score(y_test, y_pred)\n",
    "print(\"Accuracy:\", accuracy)"
   ]
  },
  {
   "cell_type": "code",
   "execution_count": 8,
   "id": "6aee18b5-ac94-4697-80c4-d2e02f26269f",
   "metadata": {},
   "outputs": [
    {
     "name": "stdout",
     "output_type": "stream",
     "text": [
      "Perceptron Confusion Matrix:\n",
      " [[ 0 13]\n",
      " [ 0  8]]\n"
     ]
    }
   ],
   "source": [
    "#Generate the Confusion Matrix\n",
    "print(\"Perceptron Confusion Matrix:\\n\", confusion_matrix(y_test, y_pred))"
   ]
  },
  {
   "cell_type": "code",
   "execution_count": null,
   "id": "88e48d17-bb9f-4e8a-8778-8043713891e5",
   "metadata": {},
   "outputs": [],
   "source": []
  }
 ],
 "metadata": {
  "kernelspec": {
   "display_name": "Python 3 (ipykernel)",
   "language": "python",
   "name": "python3"
  },
  "language_info": {
   "codemirror_mode": {
    "name": "ipython",
    "version": 3
   },
   "file_extension": ".py",
   "mimetype": "text/x-python",
   "name": "python",
   "nbconvert_exporter": "python",
   "pygments_lexer": "ipython3",
   "version": "3.10.11"
  }
 },
 "nbformat": 4,
 "nbformat_minor": 5
}
